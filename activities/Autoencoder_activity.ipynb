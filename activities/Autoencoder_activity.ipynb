{
 "cells": [
  {
   "cell_type": "markdown",
   "metadata": {},
   "source": [
    "# Autoencoders\n",
    "\n",
    "Today we will use `keras` in `tensorflow` to build an autoencoder. We will use a simple neural network architecture that is composed of an input layer a lower-dimensional latent space, and an output layer of equal size.\n",
    "\n",
    "<img src=\"https://www.jeremyjordan.me/content/images/2018/03/Screen-Shot-2018-03-06-at-3.17.13-PM.png\" width=\"400\" />\n",
    "\n",
    "Autoencoders are an *unsupervised learning* method. We will use an autoencoder to create a latent space representation of the `digits` dataset, a reduced-dimension version of the `MNIST` dataset. Replacing the `digits` dataset with the larger `MNIST` dataset is perhaps a more useful activity, but increases the runtime of the algorithm."
   ]
  },
  {
   "cell_type": "code",
   "execution_count": 1,
   "metadata": {},
   "outputs": [],
   "source": [
    "# packages used in notebook!\n",
    "\n",
    "import numpy as np\n",
    "import tensorflow as tf\n",
    "from tensorflow import keras\n",
    "import matplotlib.pyplot as plt\n",
    "from sklearn import datasets, cluster # for k-means clustering\n",
    "import random # if we want to create a Variational Autoencoder"
   ]
  },
  {
   "cell_type": "code",
   "execution_count": 2,
   "metadata": {},
   "outputs": [
    {
     "data": {
      "image/png": "[encoded data removed]",
      "text/plain": [
       "<Figure size 432x288 with 4 Axes>"
      ]
     },
     "metadata": {
      "needs_background": "light"
     },
     "output_type": "display_data"
    }
   ],
   "source": [
    "# The digits dataset, made of already small 8x8 pixel images of digits 0-9\n",
    "digits = datasets.load_digits()\n",
    "\n",
    "# let's have a look at the first 4 images, stored in the `images` attribute of the\n",
    "# dataset. \n",
    "\n",
    "# let's keep labels in case we want them later\n",
    "images_and_labels = list(zip(digits.images, digits.target))\n",
    "for index, (image, label) in enumerate(images_and_labels[:4]):\n",
    "    plt.subplot(2, 4, index + 1)\n",
    "    plt.axis('off')\n",
    "    plt.imshow(image, cmap=plt.cm.gray_r, interpolation='nearest')\n",
    "    plt.title('Training: %i' % label)\n",
    "\n",
    "# To apply a classifier on this data, we need to flatten the image, to\n",
    "# turn the data in a (samples, feature) matrix:\n",
    "n_samples = len(digits.images)\n",
    "data = digits.images.reshape((n_samples, -1))\n",
    "data = data/255."
   ]
  },
  {
   "cell_type": "code",
   "execution_count": 3,
   "metadata": {},
   "outputs": [
    {
     "name": "stdout",
     "output_type": "stream",
     "text": [
      "64\n",
      "1797\n"
     ]
    }
   ],
   "source": [
    "# print the number of features and the number of training examples\n",
    "print(len(data[0]))\n",
    "print(n_samples)"
   ]
  },
  {
   "cell_type": "markdown",
   "metadata": {},
   "source": [
    "\n",
    "Now we build the autoencoder. Ours is a standard feed-forward neural network architecture with three layers as descibed above.\n",
    "\n",
    "Let's start by reducing our dimensionality by a factor of two and see if we can recover our original images.\n",
    "\n",
    "One way to build an autoencoder is to store each layer into a variable so that we can access the different pieces later. \n",
    "\n",
    "*Note: I achieved my best performance with a `relu` activation function. On both the encoded and output layers*"
   ]
  },
  {
   "cell_type": "code",
   "execution_count": null,
   "metadata": {},
   "outputs": [],
   "source": [
    "# latent_dim = 32\n",
    "\n",
    "# define your Input layer\n",
    "\n",
    "# define your encoded layer\n",
    "\n",
    "# define your output layer\n",
    "\n",
    "\n",
    "# put the layer together to create your Model\n"
   ]
  },
  {
   "cell_type": "code",
   "execution_count": null,
   "metadata": {},
   "outputs": [],
   "source": [
    "# compile the autoencoder model\n"
   ]
  },
  {
   "cell_type": "code",
   "execution_count": null,
   "metadata": {},
   "outputs": [],
   "source": [
    "# train the autoencoder\n"
   ]
  },
  {
   "cell_type": "markdown",
   "metadata": {},
   "source": [
    "Now that we have out autencoder model, let's also use the layers we already made to construct an **encoder** and **decoder** model, so we can use each piece separately."
   ]
  },
  {
   "cell_type": "code",
   "execution_count": null,
   "metadata": {},
   "outputs": [],
   "source": [
    "# build encoder and decoder models\n"
   ]
  },
  {
   "cell_type": "code",
   "execution_count": null,
   "metadata": {},
   "outputs": [],
   "source": [
    "# produce predictions from your trained model\n",
    "#encoded_imgs = \n",
    "#decoded_imgs = \n",
    "\n"
   ]
  },
  {
   "cell_type": "code",
   "execution_count": null,
   "metadata": {},
   "outputs": [],
   "source": [
    "# Let's take a look at some images that our autoencoder produced\n",
    "import matplotlib.pyplot as plt\n",
    "\n",
    "n = 10  # how many digits we will display\n",
    "plt.figure(figsize=(20, 4))\n",
    "for i in range(n):\n",
    "    # display original\n",
    "    ax = plt.subplot(2, n, i + 1)\n",
    "    plt.imshow(data[i].reshape(8, 8))\n",
    "    plt.gray()\n",
    "    ax.get_xaxis().set_visible(False)\n",
    "    ax.get_yaxis().set_visible(False)\n",
    "\n",
    "    # display reconstruction\n",
    "    ax = plt.subplot(2, n, i + 1 + n)\n",
    "    plt.imshow(decoded_imgs[i].reshape(8, 8))\n",
    "    plt.gray()\n",
    "    ax.get_xaxis().set_visible(False)\n",
    "    ax.get_yaxis().set_visible(False)\n",
    "plt.show()\n"
   ]
  },
  {
   "cell_type": "markdown",
   "metadata": {},
   "source": [
    "### *If there is time*:\n",
    "### We can then try k-means clustering on the latent space to see if we can separate numbers"
   ]
  },
  {
   "cell_type": "code",
   "execution_count": null,
   "metadata": {},
   "outputs": [],
   "source": [
    "# use sklearn's KMeans to cluster on the autoencoder's latent space:\n",
    "#y_pred = "
   ]
  },
  {
   "cell_type": "code",
   "execution_count": null,
   "metadata": {},
   "outputs": [],
   "source": [
    "# plot a subset of examples and their cluster assignment\n",
    "for i in range(25):\n",
    "    fig = plt.subplot(5, 5, i + 1)\n",
    "    plt.tight_layout()\n",
    "    plt.imshow(data[i].reshape(8,8), cmap=plt.cm.gray_r, interpolation='nearest')\n",
    "    plt.title('y_pred: %i' % y_pred[i])\n",
    "plt.show()\n",
    "\n"
   ]
  },
  {
   "cell_type": "code",
   "execution_count": null,
   "metadata": {},
   "outputs": [],
   "source": [
    "# look at cluster 1\n",
    "for i in range(len(data)):\n",
    "    if y_pred[i] == 1:\n",
    "        plt.imshow(data[i].reshape(8,8), cmap=plt.cm.gray_r, interpolation='nearest')\n",
    "        plt.title('y_pred: %i' % y_pred[i])\n",
    "        plt.show()"
   ]
  },
  {
   "cell_type": "code",
   "execution_count": null,
   "metadata": {},
   "outputs": [],
   "source": [
    "# look at cluster 2\n",
    "for i in range(len(data)):)\n",
    "    if y_pred[i] == 2:\n",
    "        plt.imshow(data[i].reshape(8,8), cmap=plt.cm.gray_r, interpolation='nearest')\n",
    "        plt.title('y_pred: %i' % y_pred[i])\n",
    "        plt.show()"
   ]
  },
  {
   "cell_type": "markdown",
   "metadata": {},
   "source": [
    "You can also try to use your trained decoder as a number generator! You provide the decoder with a latent space input that is of similar values to the ones you got in training. So many fun things to try!"
   ]
  },
  {
   "cell_type": "markdown",
   "metadata": {},
   "source": [
    "Save as `lastname1_lastname2_autoencoder.ipynb` and submit on Moodle."
   ]
  }
 ],
 "metadata": {
  "kernelspec": {
   "display_name": "Python 3",
   "language": "python",
   "name": "python3"
  },
  "language_info": {
   "codemirror_mode": {
    "name": "ipython",
    "version": 3
   },
   "file_extension": ".py",
   "mimetype": "text/x-python",
   "name": "python",
   "nbconvert_exporter": "python",
   "pygments_lexer": "ipython3",
   "version": "3.7.6"
  }
 },
 "nbformat": 4,
 "nbformat_minor": 4
}
