{
  "nbformat": 4,
  "nbformat_minor": 0,
  "metadata": {
    "kernelspec": {
      "display_name": "Python 3",
      "language": "python",
      "name": "python3"
    },
    "language_info": {
      "codemirror_mode": {
        "name": "ipython",
        "version": 3
      },
      "file_extension": ".py",
      "mimetype": "text/x-python",
      "name": "python",
      "nbconvert_exporter": "python",
      "pygments_lexer": "ipython3",
      "version": "3.7.6"
    },
    "colab": {
      "name": "Lecture1-NN_live_code.ipynb",
      "provenance": [],
      "collapsed_sections": [],
      "toc_visible": true
    }
  },
  "cells": [
    {
      "cell_type": "markdown",
      "metadata": {
        "id": "R_-Q8naoDk36"
      },
      "source": [
        "# Neural Networks in TensorFlow's Keras\n",
        "\n",
        "\n",
        "We will use a dense neural network in Keras to solve a simple regression problem. \n",
        "## Learning Task\n",
        "We will construct a dense neural network to predict the invariant mass of a particle from its energy, momentum, (and charge).\n",
        "\n",
        "*Note that this task does not require machine learning. We choose a task with a known mapping to help us create, debug, and tune our first neural network.*\n",
        "\n",
        "## Dataset\n",
        "This dataset is a collection of simulated particle events from [Pythia](http://home.thep.lu.se/~torbjorn/Pythia.html). The dataset is a 2D array where each row represents one event from an $e^{-} + p$ collision. This dataset is comprised _only_ of events where exactly 16 particles are produced from an electron-proton collision. Each particle contains $(p_x,p_y,p_z,E,q)$. Each event is therefore represented by 80 numbers. \n",
        "\n",
        "**Advanced activity:** There are more interesting event-wise learning tasks using this dataset. Consider crafting your own learning task and target for this data.\n",
        "\n",
        "\n",
        "\n",
        "## Computational Notes\n",
        "\n",
        "If this is your first time in a Jupyter-like environment, please read the following carefully:\n",
        "\n",
        " - You are in an active kernel\n",
        " - Run each cell with `Shift + Enter`\n",
        " - You must execute the cells in the order that you want the code to run\n",
        " - `Runtime`$\\rightarrow$`Change runtime type` allows you to utilize GPUs and TPUs. They are unnecessary here, but will become vital in later exercises.\n"
      ]
    },
    {
      "cell_type": "code",
      "metadata": {
        "id": "LfL6KNLSDk3-"
      },
      "source": [
        "# import the packages we will be using\n",
        "import numpy as np\n",
        "import tensorflow as tf\n",
        "import pylab as plt"
      ],
      "execution_count": null,
      "outputs": []
    },
    {
      "cell_type": "code",
      "metadata": {
        "id": "xTx3KTNYGyQu",
        "colab": {
          "base_uri": "https://localhost:8080/"
        },
        "outputId": "f1aed2fa-e6e0-4453-bce9-1eb4a7a884fe"
      },
      "source": [
        "# import data from github. Note: in colab, go to Files and refresh to see file\n",
        "# here I use Linux commands within the notebook to pull the data file and rename it\n",
        "!wget https://github.com/NuclearTalent/MachineLearningECT/blob/master/doc/pub/Day6/data/homogenous-16-particle-events-energy.npy?raw=true\n",
        "!mv homogenous-16-particle-events-energy.npy?raw=true particle-events.npy"
      ],
      "execution_count": null,
      "outputs": [
        {
          "output_type": "stream",
          "text": [
            "--2021-01-11 16:42:52--  https://github.com/NuclearTalent/MachineLearningECT/blob/master/doc/pub/Day6/data/homogenous-16-particle-events-energy.npy?raw=true\n",
            "Resolving github.com (github.com)... 192.30.255.113\n",
            "Connecting to github.com (github.com)|192.30.255.113|:443... connected.\n",
            "HTTP request sent, awaiting response... 302 Found\n",
            "Location: https://github.com/NuclearTalent/MachineLearningECT/raw/master/doc/pub/Day6/data/homogenous-16-particle-events-energy.npy [following]\n",
            "--2021-01-11 16:42:53--  https://github.com/NuclearTalent/MachineLearningECT/raw/master/doc/pub/Day6/data/homogenous-16-particle-events-energy.npy\n",
            "Reusing existing connection to github.com:443.\n",
            "HTTP request sent, awaiting response... 302 Found\n",
            "Location: https://raw.githubusercontent.com/NuclearTalent/MachineLearningECT/master/doc/pub/Day6/data/homogenous-16-particle-events-energy.npy [following]\n",
            "--2021-01-11 16:42:53--  https://raw.githubusercontent.com/NuclearTalent/MachineLearningECT/master/doc/pub/Day6/data/homogenous-16-particle-events-energy.npy\n",
            "Resolving raw.githubusercontent.com (raw.githubusercontent.com)... 151.101.0.133, 151.101.64.133, 151.101.128.133, ...\n",
            "Connecting to raw.githubusercontent.com (raw.githubusercontent.com)|151.101.0.133|:443... connected.\n",
            "HTTP request sent, awaiting response... 200 OK\n",
            "Length: 22986368 (22M) [application/octet-stream]\n",
            "Saving to: ‘homogenous-16-particle-events-energy.npy?raw=true’\n",
            "\n",
            "homogenous-16-parti 100%[===================>]  21.92M  93.8MB/s    in 0.2s    \n",
            "\n",
            "2021-01-11 16:42:53 (93.8 MB/s) - ‘homogenous-16-particle-events-energy.npy?raw=true’ saved [22986368/22986368]\n",
            "\n"
          ],
          "name": "stdout"
        }
      ]
    },
    {
      "cell_type": "code",
      "metadata": {
        "id": "8-GfZs9bI7Km"
      },
      "source": [
        "# now we load the data file, which is a numpy array\n",
        "events = np.load(\"particle-events.npy\")"
      ],
      "execution_count": null,
      "outputs": []
    },
    {
      "cell_type": "markdown",
      "metadata": {
        "id": "8O8n_nwTDk3_"
      },
      "source": [
        "Recall that each row of this dataset is an entire event. We need each row to represent a training example, which is a single particle.\n",
        "\n",
        "Using `numpy`'s `reshape` method we can make each row represent one particle. "
      ]
    },
    {
      "cell_type": "code",
      "metadata": {
        "id": "067guDXZDk4A",
        "colab": {
          "base_uri": "https://localhost:8080/"
        },
        "outputId": "ec3cd05b-b55d-4f7d-f83e-9e8c66861c1d"
      },
      "source": [
        "# Here we rearrange the data within each of the events to isolate particles\n",
        "\n",
        "print(\"events[0] =\\n\",events[0])\n",
        "evt_particles = np.reshape(events, (len(events), 16, 5))\n",
        "\n",
        "print(\"\\nevt_particles[0] =\\n\", evt_particles[0])\n",
        "\n",
        "# Use another call of reshape to combine all events to have the appropriate shape\n",
        "# Complete me:\n",
        "particles = np.reshape(evt_particles,(len(evt_particles)*16,5))\n",
        "\n",
        "print(\"\\nparticles =\\n\",particles[:10])"
      ],
      "execution_count": null,
      "outputs": [
        {
          "output_type": "stream",
          "text": [
            "events[0] =\n",
            " [-4.92933e-01 -4.69448e-01 -2.22871e+00  2.33452e+00 -1.00000e+00\n",
            " -3.80699e-01  8.59243e-01  1.25686e-01  9.58388e-01 -1.00000e+00\n",
            " -2.34261e-01  9.33082e-01  1.29211e+00  1.61695e+00 -1.00000e+00\n",
            "  2.96567e+00 -1.14139e+01 -1.03999e+01  1.57235e+01 -1.00000e+00\n",
            " -2.33088e-01  1.14639e+00  1.01423e+00  1.54828e+00  0.00000e+00\n",
            " -2.24429e-01  6.11783e-01  5.36178e-01  8.43879e-01  0.00000e+00\n",
            " -2.19645e-01  1.90731e+00  1.98366e+00  2.76061e+00  0.00000e+00\n",
            " -9.46121e-02 -2.55988e-03 -1.57484e-01  1.83737e-01  0.00000e+00\n",
            " -7.94387e-02 -1.19301e-01 -8.98585e-02  1.69168e-01  0.00000e+00\n",
            " -2.82730e-02  2.31397e-01  3.13687e-01  3.90824e-01  0.00000e+00\n",
            " -2.58926e-02  1.58293e-03  2.12767e-01  2.14342e-01  0.00000e+00\n",
            " -1.20542e-03 -1.07729e-01  1.21205e-01  1.62165e-01  0.00000e+00\n",
            " -5.36692e-01  2.90370e+00  4.39754e+00  5.29880e+00  1.00000e+00\n",
            " -2.92018e-01  3.16378e+00  4.27693e+00  5.32977e+00  1.00000e+00\n",
            "  6.00352e-02  1.98486e-01  3.87630e-01  4.61235e-01  1.00000e+00\n",
            " -1.82514e-01  1.56148e-01 -1.76367e+00  2.01211e+00  1.00000e+00]\n",
            "\n",
            "evt_particles[0] =\n",
            " [[-4.92933e-01 -4.69448e-01 -2.22871e+00  2.33452e+00 -1.00000e+00]\n",
            " [-3.80699e-01  8.59243e-01  1.25686e-01  9.58388e-01 -1.00000e+00]\n",
            " [-2.34261e-01  9.33082e-01  1.29211e+00  1.61695e+00 -1.00000e+00]\n",
            " [ 2.96567e+00 -1.14139e+01 -1.03999e+01  1.57235e+01 -1.00000e+00]\n",
            " [-2.33088e-01  1.14639e+00  1.01423e+00  1.54828e+00  0.00000e+00]\n",
            " [-2.24429e-01  6.11783e-01  5.36178e-01  8.43879e-01  0.00000e+00]\n",
            " [-2.19645e-01  1.90731e+00  1.98366e+00  2.76061e+00  0.00000e+00]\n",
            " [-9.46121e-02 -2.55988e-03 -1.57484e-01  1.83737e-01  0.00000e+00]\n",
            " [-7.94387e-02 -1.19301e-01 -8.98585e-02  1.69168e-01  0.00000e+00]\n",
            " [-2.82730e-02  2.31397e-01  3.13687e-01  3.90824e-01  0.00000e+00]\n",
            " [-2.58926e-02  1.58293e-03  2.12767e-01  2.14342e-01  0.00000e+00]\n",
            " [-1.20542e-03 -1.07729e-01  1.21205e-01  1.62165e-01  0.00000e+00]\n",
            " [-5.36692e-01  2.90370e+00  4.39754e+00  5.29880e+00  1.00000e+00]\n",
            " [-2.92018e-01  3.16378e+00  4.27693e+00  5.32977e+00  1.00000e+00]\n",
            " [ 6.00352e-02  1.98486e-01  3.87630e-01  4.61235e-01  1.00000e+00]\n",
            " [-1.82514e-01  1.56148e-01 -1.76367e+00  2.01211e+00  1.00000e+00]]\n",
            "\n",
            "particles =\n",
            " [[-4.92933e-01 -4.69448e-01 -2.22871e+00  2.33452e+00 -1.00000e+00]\n",
            " [-3.80699e-01  8.59243e-01  1.25686e-01  9.58388e-01 -1.00000e+00]\n",
            " [-2.34261e-01  9.33082e-01  1.29211e+00  1.61695e+00 -1.00000e+00]\n",
            " [ 2.96567e+00 -1.14139e+01 -1.03999e+01  1.57235e+01 -1.00000e+00]\n",
            " [-2.33088e-01  1.14639e+00  1.01423e+00  1.54828e+00  0.00000e+00]\n",
            " [-2.24429e-01  6.11783e-01  5.36178e-01  8.43879e-01  0.00000e+00]\n",
            " [-2.19645e-01  1.90731e+00  1.98366e+00  2.76061e+00  0.00000e+00]\n",
            " [-9.46121e-02 -2.55988e-03 -1.57484e-01  1.83737e-01  0.00000e+00]\n",
            " [-7.94387e-02 -1.19301e-01 -8.98585e-02  1.69168e-01  0.00000e+00]\n",
            " [-2.82730e-02  2.31397e-01  3.13687e-01  3.90824e-01  0.00000e+00]]\n"
          ],
          "name": "stdout"
        }
      ]
    },
    {
      "cell_type": "markdown",
      "metadata": {
        "id": "K_YWTBO0Dk4B"
      },
      "source": [
        "These are our training data inputs, but we also must provide the targets, which are the invariant masses of each particle. This is a straightforward computation.\n",
        "\n",
        "We choose units where $c = 1$:\n",
        "$$m^2=E^2-||\\textbf{p}||^2$$\n",
        "where $m, E$, and $\\textbf{p}$ are all in GeV.\n",
        "\n",
        "**Create an array of your target values.**\n",
        "Due to insufficient precision, some $m^2$ values for massless particles will come out very slightly negative. These should be treated as zero to avoid `NaN`. I used the `maximum` method from `numpy` to handle this. "
      ]
    },
    {
      "cell_type": "code",
      "metadata": {
        "id": "ap3EizhuDk4B",
        "colab": {
          "base_uri": "https://localhost:8080/"
        },
        "outputId": "f419fdab-eb9f-4892-d665-c6af914bf167"
      },
      "source": [
        "# Complete me:\n",
        "momentum2 = particles[:,0]**2 + particles[:,1]**2 + particles[:,2]**2\n",
        "m = np.sqrt(np.maximum(particles[:,3]**2 - momentum2,0))\n",
        "print(m[:100])"
      ],
      "execution_count": null,
      "outputs": [
        {
          "output_type": "stream",
          "text": [
            "[1.39538522e-01 1.39571940e-01 1.39494859e-01 0.00000000e+00\n",
            " 0.00000000e+00 0.00000000e+00 0.00000000e+00 2.69185764e-04\n",
            " 1.62920410e-04 0.00000000e+00 0.00000000e+00 0.00000000e+00\n",
            " 1.39324784e-01 1.39784217e-01 1.39570021e-01 9.38275666e-01\n",
            " 1.39568911e-01 1.39569103e-01 1.39782004e-01 3.31708245e-02\n",
            " 3.93869763e-04 0.00000000e+00 0.00000000e+00 3.35488882e-04\n",
            " 0.00000000e+00 7.21647421e-04 0.00000000e+00 0.00000000e+00\n",
            " 1.39573210e-01 1.39542123e-01 1.39399583e-01 9.38272084e-01\n",
            " 1.39641365e-01 1.39567088e-01 1.39570026e-01 4.19401868e-02\n",
            " 0.00000000e+00 0.00000000e+00 9.40121306e-05 0.00000000e+00\n",
            " 0.00000000e+00 0.00000000e+00 5.93387319e-04 6.95541544e-03\n",
            " 1.39569066e-01 1.39569421e-01 1.34740568e-01 9.38269827e-01\n",
            " 1.39568762e-01 1.39570892e-01 1.39634443e-01 3.61307002e-02\n",
            " 8.93502316e-04 5.60417621e-04 0.00000000e+00 0.00000000e+00\n",
            " 0.00000000e+00 0.00000000e+00 0.00000000e+00 0.00000000e+00\n",
            " 1.39604768e-01 1.39562092e-01 1.39604075e-01 9.38272420e-01\n",
            " 1.39616039e-01 1.39570049e-01 1.39566780e-01 0.00000000e+00\n",
            " 7.81582369e-03 3.04908085e-03 0.00000000e+00 0.00000000e+00\n",
            " 0.00000000e+00 0.00000000e+00 0.00000000e+00 0.00000000e+00\n",
            " 1.39577587e-01 1.39568735e-01 1.39570342e-01 9.38278626e-01\n",
            " 1.39569921e-01 1.39566382e-01 1.39612142e-01 0.00000000e+00\n",
            " 0.00000000e+00 0.00000000e+00 2.24682576e-04 0.00000000e+00\n",
            " 0.00000000e+00 0.00000000e+00 2.01925506e-03 0.00000000e+00\n",
            " 1.39569454e-01 1.39568965e-01 1.39130410e-01 9.38264267e-01\n",
            " 1.39571234e-01 1.39569679e-01 1.39628223e-01 0.00000000e+00]\n"
          ],
          "name": "stdout"
        }
      ]
    },
    {
      "cell_type": "markdown",
      "metadata": {
        "id": "hSJgylrvWn2J"
      },
      "source": [
        ""
      ]
    },
    {
      "cell_type": "markdown",
      "metadata": {
        "id": "kprt9pbPDk4D"
      },
      "source": [
        "There are several hundred thousand datapoints in this dataset which is overkill for this simple example. Create a test dataset with just 1000 examples."
      ]
    },
    {
      "cell_type": "code",
      "metadata": {
        "id": "nZkF1erNDk4E"
      },
      "source": [
        "#Slicing allows you select a subset of an array.\n",
        "#This can be done like this: smallerArray = largerArray[:100]\n",
        "\n",
        "#Complete me:\n",
        "particles_train = particles[:1000]\n",
        "m_train = m[:1000]"
      ],
      "execution_count": null,
      "outputs": []
    },
    {
      "cell_type": "markdown",
      "metadata": {
        "id": "5VYyii0yDk4F"
      },
      "source": [
        "Next, make a histogram of the target data to make sure that we are seeing masses of real particles. As this data has limited precision, this will not resolve electrons very well, but protons, pions, and massless particles should be clearly visible."
      ]
    },
    {
      "cell_type": "code",
      "metadata": {
        "id": "xHL4sU3ZDk4G",
        "colab": {
          "base_uri": "https://localhost:8080/",
          "height": 285
        },
        "outputId": "061d09db-854d-4d69-d1d1-3684fb5408c9"
      },
      "source": [
        "plt.hist(m_train,bins=100)\n",
        "plt.show()"
      ],
      "execution_count": null,
      "outputs": [
        {
          "output_type": "display_data",
          "data": {
            "image/png": "[encoded data removed]",
            "text/plain": [
              "<Figure size 432x288 with 1 Axes>"
            ]
          },
          "metadata": {
            "tags": [],
            "needs_background": "light"
          }
        }
      ]
    },
    {
      "cell_type": "markdown",
      "metadata": {
        "id": "i-MXhgPQDk4H"
      },
      "source": [
        "Now we can build and train the first neural network. We will start with a network with on hidden layer and 5 neurons, and ReLU activation. \n",
        "\n",
        "\n"
      ]
    },
    {
      "cell_type": "code",
      "metadata": {
        "id": "d_MsoqFvDk4H",
        "colab": {
          "base_uri": "https://localhost:8080/"
        },
        "outputId": "2143e230-f4f5-4666-d7aa-39cf81864284"
      },
      "source": [
        "# Build our model\n",
        "model = tf.keras.Sequential() #Define the model object\n",
        "model.add(tf.keras.layers.Dense(6, input_shape=(5,), activation=\"sigmoid\")) #Add the hidden layer\n",
        "\n",
        "# Add the output layer yourself\n",
        "# No activation function assignment defaults to \"linear\"\n",
        "# Complete me:\n",
        "model.add(tf.keras.layers.Dense(1))\n",
        "\n",
        "\n",
        "# prints a model summary\n",
        "model.summary()"
      ],
      "execution_count": null,
      "outputs": [
        {
          "output_type": "stream",
          "text": [
            "Model: \"sequential\"\n",
            "_________________________________________________________________\n",
            "Layer (type)                 Output Shape              Param #   \n",
            "=================================================================\n",
            "dense (Dense)                (None, 6)                 36        \n",
            "_________________________________________________________________\n",
            "dense_1 (Dense)              (None, 1)                 7         \n",
            "=================================================================\n",
            "Total params: 43\n",
            "Trainable params: 43\n",
            "Non-trainable params: 0\n",
            "_________________________________________________________________\n"
          ],
          "name": "stdout"
        }
      ]
    },
    {
      "cell_type": "markdown",
      "metadata": {
        "id": "xFb0E6GtSK7Z"
      },
      "source": [
        "To start, train for 30 epochs with a batch size of 128, an Adam optimizer with a learning rate of 0.1, using mean squared error loss. **This is not ideal.**\n",
        "\n",
        "Define your validation split to provide a set of data the model has not used to assess how the model is generalizing. This allows us to monitor overtraining. Setting `validation_split=0.2` meaning that $20\\%$ of the data will be used for validation.\n",
        "\n",
        "Information on how to implement these features can be found here:\n",
        "<https://www.tensorflow.org/api_docs/python/tf/keras>.\n",
        "Check out Sequential underneath models and Dense under layers."
      ]
    },
    {
      "cell_type": "code",
      "metadata": {
        "id": "hCp3EXCTDk4I"
      },
      "source": [
        "optimize = tf.keras.optimizers.Adam(lr=0.1) # Adam optimizer with a learning rate of 0.1\n",
        "loss_func = tf.keras.losses.MeanSquaredError() # choosing MSE\n",
        "\n",
        "# compile model\n",
        "model.compile(optimizer=optimize,loss=loss_func) "
      ],
      "execution_count": null,
      "outputs": []
    },
    {
      "cell_type": "code",
      "metadata": {
        "id": "Zs_ReONMDk4I",
        "colab": {
          "base_uri": "https://localhost:8080/"
        },
        "outputId": "81e9cdc8-c8c0-4c58-c0a5-bfab4bced262"
      },
      "source": [
        "results = model.fit(particles_train, m_train, epochs=10, batch_size=256, validation_split=0.2)"
      ],
      "execution_count": null,
      "outputs": [
        {
          "output_type": "stream",
          "text": [
            "Epoch 1/10\n",
            "4/4 [==============================] - 1s 70ms/step - loss: 0.1120 - val_loss: 0.0736\n",
            "Epoch 2/10\n",
            "4/4 [==============================] - 0s 13ms/step - loss: 0.0659 - val_loss: 0.0509\n",
            "Epoch 3/10\n",
            "4/4 [==============================] - 0s 12ms/step - loss: 0.0463 - val_loss: 0.0356\n",
            "Epoch 4/10\n",
            "4/4 [==============================] - 0s 12ms/step - loss: 0.0331 - val_loss: 0.0322\n",
            "Epoch 5/10\n",
            "4/4 [==============================] - 0s 13ms/step - loss: 0.0362 - val_loss: 0.0335\n",
            "Epoch 6/10\n",
            "4/4 [==============================] - 0s 52ms/step - loss: 0.0303 - val_loss: 0.0303\n",
            "Epoch 7/10\n",
            "4/4 [==============================] - 0s 12ms/step - loss: 0.0312 - val_loss: 0.0317\n",
            "Epoch 8/10\n",
            "4/4 [==============================] - 0s 13ms/step - loss: 0.0267 - val_loss: 0.0274\n",
            "Epoch 9/10\n",
            "4/4 [==============================] - 0s 12ms/step - loss: 0.0257 - val_loss: 0.0266\n",
            "Epoch 10/10\n",
            "4/4 [==============================] - 0s 12ms/step - loss: 0.0229 - val_loss: 0.0254\n"
          ],
          "name": "stdout"
        }
      ]
    },
    {
      "cell_type": "markdown",
      "metadata": {
        "id": "Mcg4Qj1wZDxE"
      },
      "source": [
        "A learning curve is a clearer way to visualize the above training. This helps us determine over and underfitting, which, in turn, helps us tune our model and training."
      ]
    },
    {
      "cell_type": "code",
      "metadata": {
        "id": "TrIo4jsqDk4J"
      },
      "source": [
        "# helper function for easy plotting\n",
        "def plot_learning_curve(history):\n",
        "    plt.plot(history[\"loss\"], label=\"training loss\")\n",
        "    plt.plot(history[\"val_loss\"], label=\"validation loss\")\n",
        "    plt.xlabel(\"Epoch\")\n",
        "    plt.ylabel(\"Loss\")\n",
        "    plt.yscale('log')\n",
        "    plt.legend()\n",
        "    plt.show()\n"
      ],
      "execution_count": null,
      "outputs": []
    },
    {
      "cell_type": "code",
      "metadata": {
        "colab": {
          "base_uri": "https://localhost:8080/",
          "height": 299
        },
        "id": "RfhycMMXZahi",
        "outputId": "f82b7484-e1e5-4586-d6ed-a50f2fb70f8a"
      },
      "source": [
        "# using the new function\n",
        "plot_learning_curve(results.history)"
      ],
      "execution_count": null,
      "outputs": [
        {
          "output_type": "display_data",
          "data": {
            "image/png": "[encoded data removed]",
            "text/plain": [
              "<Figure size 432x288 with 1 Axes>"
            ]
          },
          "metadata": {
            "tags": [],
            "needs_background": "light"
          }
        }
      ]
    },
    {
      "cell_type": "markdown",
      "metadata": {
        "id": "Rot49hATDk4K"
      },
      "source": [
        "## Tuning\n",
        "The model is learning, but we can do better. \n",
        "\n",
        "**At this point, you can play with the above code to change hyperparameters and note changes to your results.**\n",
        "\n",
        "Alternatively, you can step through tuning this model below.\n",
        "\n",
        "## Walk-through tuning:\n",
        "Perhaps we did not have enough model parameters to accurately represent the mapping. Remedy this by increasing the number of hidden neurons to 20."
      ]
    },
    {
      "cell_type": "code",
      "metadata": {
        "id": "N3SfAb-mDk4L"
      },
      "source": [
        "#Use the same code as in the previous cell\n",
        "#simply change the number of neurons in the hidden layer"
      ],
      "execution_count": null,
      "outputs": []
    },
    {
      "cell_type": "markdown",
      "metadata": {
        "id": "PQWoQKonDk4L"
      },
      "source": [
        "We see that we got little improvement here. Another hyperparameter to adjust is *batch size*, which is the number of training examples used to calculate the gradient on each step. While you may initially think that a higher batch size leads to faster or more accurate training, in practice this is not true. The \"noise\" that arises from using less training examples at each iteration can actually help find the global minimum of the loss function.\n",
        "(See here for more info: https://arxiv.org/pdf/1609.04836.pdf)\n",
        "\n",
        "Try decreasing the batch size to 16."
      ]
    },
    {
      "cell_type": "code",
      "metadata": {
        "id": "UB9__PwjDk4M"
      },
      "source": [
        "#Complete me:\n"
      ],
      "execution_count": null,
      "outputs": []
    },
    {
      "cell_type": "markdown",
      "metadata": {
        "id": "q4QGMh3-Dk4M"
      },
      "source": [
        "This is starting to do better but has significant room for improvement.\n",
        "\n",
        "Another hyperparameter to tune is the *learning rate*. \n",
        "\n",
        " - If the learning rate is too high, we are taking too large of a step in the gradient descent at each iteration and will miss narrow minima in the loss function. \n",
        " - If the learning rate is too small, then we are not traveling far enough in each iteration and we will take far too long to reach a minimum. \n",
        "\n",
        "Perhaps the learning rate is too high and the network can't fine tune. Try decreasing the learning rate to 0.001."
      ]
    },
    {
      "cell_type": "code",
      "metadata": {
        "id": "s851AM6GDk4N"
      },
      "source": [
        "\n",
        "# Complete me:\n"
      ],
      "execution_count": null,
      "outputs": []
    },
    {
      "cell_type": "markdown",
      "metadata": {
        "id": "yh748SgrDk4O"
      },
      "source": [
        "This is not really that much better, but now there is evidence of *overtraining* or *overfitting* -- the training loss is so much lower than the validation loss. \n",
        "\n",
        "A common fix to this is adding *dropout layers*. Try adding a dropout layer with dropout rate of 0.5. <https://www.tensorflow.org/api_docs/python/tf/keras/layers/Dropout>\n",
        "\n",
        "You can also try batch normalization: <https://www.tensorflow.org/api_docs/python/tf/keras/layers/BatchNormalization>"
      ]
    },
    {
      "cell_type": "code",
      "metadata": {
        "id": "XO_Ou80xDk4O"
      },
      "source": [
        "#Dropout layers are located under tf.keras.layers. \n",
        "#They take the dropout rate as their only argument.\n",
        "#BatchNormalization layers are also under tf.keras.layers, and in the simplest use case, take no arguments\n",
        "\n",
        "#Complete me:\n"
      ],
      "execution_count": null,
      "outputs": []
    },
    {
      "cell_type": "markdown",
      "metadata": {
        "id": "Owd0k7kEDk4P"
      },
      "source": [
        "This clearly stopped the overtraining problem, but it still isn't training well. Now, try training on the full dataset with a more reasonable validation split of 0.2. Use a single hidden layer with 20 neurons, a learning rate of 0.001, and a batch size of 256. Just run it for 10 epochs."
      ]
    },
    {
      "cell_type": "code",
      "metadata": {
        "id": "iStR0aT5Dk4P"
      },
      "source": [
        "#Complete me:\n"
      ],
      "execution_count": null,
      "outputs": []
    },
    {
      "cell_type": "markdown",
      "metadata": {
        "id": "3vkQ1kX2Dk4Q"
      },
      "source": [
        "This clearly resulted in a significant improvement and shows how important having a large enough dataset is. Moving on to the choice in activation functions, ReLU is not the only available choice, although it is one of the most popular ones currently. Try training a network using a sigmoid or tanh activation function."
      ]
    },
    {
      "cell_type": "code",
      "metadata": {
        "id": "B3qtiBmiDk4Q"
      },
      "source": [
        "#Simply change relu to sigmoid or tanh to change the activation function\n",
        "\n",
        "#Complete me:\n"
      ],
      "execution_count": null,
      "outputs": []
    },
    {
      "cell_type": "markdown",
      "metadata": {
        "id": "ZRlAj8KFDk4R"
      },
      "source": [
        "Next, try adding 2 new hidden layers to the network. Use the ReLU activation function."
      ]
    },
    {
      "cell_type": "code",
      "metadata": {
        "id": "oJlPFnsjDk4R"
      },
      "source": [
        "#Complete me:\n"
      ],
      "execution_count": null,
      "outputs": []
    },
    {
      "cell_type": "markdown",
      "metadata": {
        "id": "t3lUeX2dDk4S"
      },
      "source": [
        "Clearly, adding more layers helps improve the quality of the network. There is a limit to how effective this is though. Try having 5 hidden layers."
      ]
    },
    {
      "cell_type": "code",
      "metadata": {
        "id": "3kKOzBCrDk4S"
      },
      "source": [
        "#Complete me:\n"
      ],
      "execution_count": null,
      "outputs": []
    },
    {
      "cell_type": "markdown",
      "metadata": {
        "id": "psJeOPOsDk4S"
      },
      "source": [
        "Now, see what happens when you increase the number of neurons per layer from 20 to 50 in the 3 hidden layer model. Consider how they perform compared to ReLU now. "
      ]
    },
    {
      "cell_type": "code",
      "metadata": {
        "id": "k430N-vIDk4T"
      },
      "source": [
        "#Complete me:\n"
      ],
      "execution_count": null,
      "outputs": []
    },
    {
      "cell_type": "markdown",
      "metadata": {
        "id": "Ntl38Zo7Dk4U"
      },
      "source": [
        "Try using the sigmoid and the tanh activation functions again and compare them to ReLU."
      ]
    },
    {
      "cell_type": "code",
      "metadata": {
        "id": "JHn1MKIiDk4V"
      },
      "source": [
        "#Complete me:\n"
      ],
      "execution_count": null,
      "outputs": []
    },
    {
      "cell_type": "markdown",
      "metadata": {
        "id": "D-HNQQhpDk4V"
      },
      "source": [
        "This difference in performance, especially with the sigmoid function, is known as the vanishing gradient problem. If the value for any one the neurons gets too far away from 0, the gradient for sigmoid and tanh gets really close to 0. This means that for deeper networks it is much more difficult to update the weights in the earlier layers as their gradient is so small. Now, remove the fifth column from the input data, the charge, and see what happens when training. Why do you think including charge has such a large impact?"
      ]
    },
    {
      "cell_type": "code",
      "metadata": {
        "id": "ceRTx4CpDk4W"
      },
      "source": [
        "#Complete me:\n"
      ],
      "execution_count": null,
      "outputs": []
    },
    {
      "cell_type": "markdown",
      "metadata": {
        "id": "IscwBDy7Dk4W"
      },
      "source": [
        "Finally, there are other options for the loss function. Try experimenting with alternatives to mean squared error.\n",
        "\n",
        "<https://www.tensorflow.org/api_docs/python/tf/keras/losses>\n",
        "\n",
        "You can also try some other optimizers -- for example, sgd (with and without momentum), rmsprop, adagrad, adadelta, adamax, and nadam. <https://www.tensorflow.org/api_docs/python/tf/keras/optimizers>\n",
        "\n"
      ]
    },
    {
      "cell_type": "code",
      "metadata": {
        "id": "uCm5VSXDDk4X"
      },
      "source": [
        ""
      ],
      "execution_count": null,
      "outputs": []
    }
  ]
}