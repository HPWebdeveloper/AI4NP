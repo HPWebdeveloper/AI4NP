{
 "cells": [
  {
   "cell_type": "markdown",
   "metadata": {},
   "source": [
    "# Generative Models"
   ]
  },
  {
   "cell_type": "markdown",
   "metadata": {},
   "source": [
    "# Autoencoders\n",
    "\n",
    "Today we will use `keras` in `tensorflow` to build autoencoders. \n",
    "\n",
    "We will start with a simple neural network architecture that is composed of an input layer a lower-dimensional latent space, and an output layer of equal size.\n",
    "\n",
    "<img src=\"https://www.jeremyjordan.me/content/images/2018/03/Screen-Shot-2018-03-06-at-3.17.13-PM.png\" width=\"400\" />\n",
    "\n",
    "Autoencoders are an *unsupervised learning* method. We will begin by using an autoencoder to create a latent space representation of the `digits` dataset, a reduced-dimension version of the `MNIST` dataset. Replacing the `digits` dataset with the larger `MNIST` dataset is perhaps a more useful activity, but increases the runtime of the algorithm.\n",
    "\n",
    "We will then extend this to create an autoencoder for the AT-TPC data."
   ]
  },
  {
   "cell_type": "code",
   "execution_count": 14,
   "metadata": {},
   "outputs": [],
   "source": [
    "import os\n",
    "import numpy as np\n",
    "import tensorflow as tf\n",
    "import numpy as np\n",
    "import matplotlib.pyplot as plt\n",
    "import h5py\n",
    "from sklearn.metrics import confusion_matrix, classification_report\n",
    "from sklearn import datasets, cluster # for k-means clustering\n",
    "from sklearn.cluster import KMeans\n",
    "import random # if we want to create a Variational Autoencoder\n",
    "# This is simply an alias for convenience\n",
    "layers = tf.keras.layers\n"
   ]
  },
  {
   "cell_type": "code",
   "execution_count": 2,
   "metadata": {},
   "outputs": [],
   "source": [
    "\n",
    "\n",
    "def load_attpc_data():\n",
    "    \"\"\"Loads in the AT-TPC data.\n",
    "        \n",
    "    Returns:\n",
    "        A tuple of the form ((real_features, real_targets), (simulated_features, simulated_targets))\n",
    "    \"\"\"\n",
    "    simulated_data_origin = 'https://github.com/CompPhysics/MachineLearningMSU/raw/master/Day2_materials/data/simulated-attpc-events.h5'\n",
    "    real_data_origin = 'https://github.com/CompPhysics/MachineLearningMSU/raw/master/Day2_materials/data/real-attpc-events.h5'\n",
    "    \n",
    "    simulated_path = tf.keras.utils.get_file('simulated-attpc-data.h5', origin=simulated_data_origin)\n",
    "    real_path = tf.keras.utils.get_file('real-attpc-data.h5', origin=real_data_origin)\n",
    "    \n",
    "    with h5py.File(simulated_path, 'r') as h5:\n",
    "        simulated_features = h5['features'][:]\n",
    "        simulated_targets = h5['targets'][:]\n",
    "        \n",
    "    with h5py.File(real_path, 'r') as h5:\n",
    "        real_features = h5['features'][:]\n",
    "        real_targets = h5['targets'][:]\n",
    "    \n",
    "    return (real_features, real_targets), (simulated_features, simulated_targets)\n",
    "\n",
    "def plot_learning_curve(history):\n",
    "    \"\"\"Plots a learning curve from a training history.\n",
    "    \n",
    "    Arguments:\n",
    "        history (dict): The training history returned by `model.fit()`.\n",
    "        \n",
    "    Returns:\n",
    "        None.\n",
    "    \"\"\"\n",
    "    plt.figure(figsize=(11, 6), dpi=100)\n",
    "    plt.plot(history.history['loss'], 'o-', label='Training Loss')\n",
    "    plt.plot(history.history['val_loss'], 'o:', color='r', label='Validation Loss')\n",
    "    plt.legend(loc='best')\n",
    "    plt.title('Learning Curve')\n",
    "    plt.xlabel('Epoch')\n",
    "    plt.ylabel('Loss')\n",
    "    plt.xticks(range(0, len(history.history['loss'])), range(1, len(history.history['loss']) + 1))\n",
    "    plt.show()\n",
    "    \n",
    "def plot_confusion_matrix(y_true,\n",
    "                          y_pred,\n",
    "                          classes,\n",
    "                          title=None,\n",
    "                          cmap=plt.cm.Blues):\n",
    "    \"\"\"This function prints and plots the confusion matrix.\n",
    "    \n",
    "    Adapted from:\n",
    "    https://scikit-learn.org/stable/auto_examples/model_selection/plot_confusion_matrix.html\n",
    "    \n",
    "    Arguments:\n",
    "        y_true: Real class labels.\n",
    "        y_pred: Predicted class labels.\n",
    "        classes: List of class names.\n",
    "        title: Title for the plot.\n",
    "        cmap: Colormap to be used.\n",
    "    \n",
    "    Returns:\n",
    "        None.\n",
    "    \"\"\"\n",
    "    if not title:\n",
    "        title = 'Confusion matrix'\n",
    "\n",
    "    # Compute confusion matrix\n",
    "    cm = confusion_matrix(y_true, y_pred)\n",
    "\n",
    "    fig, ax = plt.subplots(figsize=(4, 4), dpi=100)\n",
    "    im = ax.imshow(cm, interpolation='nearest', cmap=cmap)\n",
    "    ax.figure.colorbar(im, ax=ax)\n",
    "    # We want to show all ticks...\n",
    "    ax.set(xticks=np.arange(cm.shape[1]),\n",
    "           yticks=np.arange(cm.shape[0]),\n",
    "           # ... and label them with the respective list entries\n",
    "           xticklabels=classes, yticklabels=classes,\n",
    "           title=title,\n",
    "           ylabel='True label',\n",
    "           xlabel='Predicted label')\n",
    "\n",
    "    # Rotate the tick labels and set their alignment.\n",
    "    plt.setp(ax.get_xticklabels(), rotation=45, ha='right', rotation_mode='anchor')\n",
    "\n",
    "    # Loop over data dimensions and create text annotations.\n",
    "    thresh = cm.max() / 2.\n",
    "    for i in range(cm.shape[0]):\n",
    "        for j in range(cm.shape[1]):\n",
    "            ax.text(j, i, format(cm[i, j], 'd'),\n",
    "                    ha='center', va='center',\n",
    "                    color='white' if cm[i, j] > thresh else 'black')\n",
    "    fig.tight_layout()\n",
    "    plt.show()"
   ]
  },
  {
   "cell_type": "markdown",
   "metadata": {},
   "source": [
    "## Data exploration"
   ]
  },
  {
   "cell_type": "code",
   "execution_count": 48,
   "metadata": {},
   "outputs": [],
   "source": [
    "(x_train, _), (x_test, _) = tf.keras.datasets.mnist.load_data()"
   ]
  },
  {
   "cell_type": "code",
   "execution_count": 49,
   "metadata": {},
   "outputs": [
    {
     "name": "stdout",
     "output_type": "stream",
     "text": [
      "Training Features:\n",
      "   Shape: (60000, 28, 28)\n",
      "   Type: uint8\n",
      "\n"
     ]
    }
   ],
   "source": [
    "print('Training Features:\\n   Shape: {}\\n   Type: {}\\n'.format(x_train.shape, x_train.dtype))\n"
   ]
  },
  {
   "cell_type": "code",
   "execution_count": 50,
   "metadata": {},
   "outputs": [
    {
     "data": {
      "image/png": "[encoded data removed]",
      "text/plain": [
       "<Figure size 720x720 with 25 Axes>"
      ]
     },
     "metadata": {},
     "output_type": "display_data"
    }
   ],
   "source": [
    "plt.figure(figsize=(10, 10))\n",
    "\n",
    "for i in range(25):\n",
    "    plt.subplot(5, 5, i + 1)\n",
    "    plt.xticks([])\n",
    "    plt.yticks([])\n",
    "    plt.grid(False)\n",
    "    plt.imshow(x_train[i], cmap=plt.cm.binary)\n",
    "    \n",
    "plt.show()"
   ]
  },
  {
   "cell_type": "markdown",
   "metadata": {},
   "source": [
    "### As always, we much rescale the data. Here, I rescaled the images to [0,1]"
   ]
  },
  {
   "cell_type": "code",
   "execution_count": 51,
   "metadata": {},
   "outputs": [
    {
     "name": "stdout",
     "output_type": "stream",
     "text": [
      "(60000, 784)\n",
      "(10000, 784)\n"
     ]
    }
   ],
   "source": [
    "x_train = x_train.astype('float32') / 255.\n",
    "x_test = x_test.astype('float32') / 255.\n",
    "x_train = x_train.reshape((len(x_train), np.prod(x_train.shape[1:])))\n",
    "x_test = x_test.reshape((len(x_test), np.prod(x_test.shape[1:])))\n",
    "print(x_train.shape)\n",
    "print(x_test.shape)"
   ]
  },
  {
   "cell_type": "markdown",
   "metadata": {},
   "source": [
    "Now we build the autoencoder. Ours is a standard feed-forward neural network architecture with three layers as descibed above.\n",
    "\n",
    "Let's start by reducing our dimensionality by a factor of two and see if we can recover our original images.\n",
    "\n",
    "One way to build an autoencoder is to store each layer into a variable so that we can access the different pieces later. \n",
    "\n",
    "*Note: I achieved my best performance with a `relu` activation function on both the encoded and output layers.*"
   ]
  },
  {
   "cell_type": "code",
   "execution_count": 87,
   "metadata": {},
   "outputs": [],
   "source": [
    "\n",
    "latent_dim = 128\n",
    "\n",
    "# define your Input layer\n",
    "input_img = layers.Input(shape=(784,))\n",
    "# define your encoded layer\n",
    "encode = layers.Dense(256, activation='relu')(input_img)\n",
    "latent = layers.Dense(latent_dim, activation='relu')(encode)\n",
    "#encoded = layers.Dense(latent_dim, activation='relu')(input_img)\n",
    "\n",
    "\n",
    "\n",
    "\n"
   ]
  },
  {
   "cell_type": "markdown",
   "metadata": {},
   "source": [
    "## Now, we build the encoder and decoder from the same layers.\n",
    "\n",
    "Let's start with the encoder:"
   ]
  },
  {
   "cell_type": "code",
   "execution_count": 88,
   "metadata": {},
   "outputs": [],
   "source": [
    "# this model maps an input to its encoded representation\n",
    "encoder = tf.keras.models.Model(input_img, latent)"
   ]
  },
  {
   "cell_type": "markdown",
   "metadata": {},
   "source": [
    "Now, for the decoder. This requires slightly more work because we want to have a latent representation as an Input in order to use the decoder as a generator."
   ]
  },
  {
   "cell_type": "code",
   "execution_count": 92,
   "metadata": {},
   "outputs": [],
   "source": [
    "# create a placeholder for an encoded (32-dimensional) input\n",
    "latent_input = layers.Input(shape=(latent_dim,))\n",
    "# retrieve the last layer of the autoencoder model\n",
    "#decoder_layers = autoencoder.layers[-2:]\n",
    "# create the decoder model\n",
    "# define your output layer\n",
    "decode = layers.Dense(256, activation='relu')(latent_input)\n",
    "out = layers.Dense(784, activation='relu')(decode)\n",
    "decoder = tf.keras.models.Model(latent_input, out)\n",
    "\n",
    "\n",
    "# put the layers together to create your Model\n",
    "autoencoder = tf.keras.models.Model(input_img, decoder(encoder(input_img)))"
   ]
  },
  {
   "cell_type": "code",
   "execution_count": 93,
   "metadata": {},
   "outputs": [],
   "source": [
    "opt = tf.keras.optimizers.Adam(lr = 0.0001)\n",
    "autoencoder.compile(optimizer='adam', loss='binary_crossentropy')"
   ]
  },
  {
   "cell_type": "code",
   "execution_count": null,
   "metadata": {},
   "outputs": [],
   "source": []
  },
  {
   "cell_type": "code",
   "execution_count": 94,
   "metadata": {},
   "outputs": [
    {
     "name": "stdout",
     "output_type": "stream",
     "text": [
      "Train on 60000 samples, validate on 10000 samples\n",
      "Epoch 1/40\n",
      "60000/60000 [==============================] - 6s 106us/sample - loss: 0.3396 - val_loss: 0.2616\n",
      "Epoch 2/40\n",
      "60000/60000 [==============================] - 6s 95us/sample - loss: 0.2523 - val_loss: 0.2609\n",
      "Epoch 3/40\n",
      "60000/60000 [==============================] - 6s 92us/sample - loss: 0.2484 - val_loss: 0.2723\n",
      "Epoch 4/40\n",
      "60000/60000 [==============================] - 5s 90us/sample - loss: 0.2254 - val_loss: 0.2139\n",
      "Epoch 5/40\n",
      "60000/60000 [==============================] - 5s 92us/sample - loss: 0.2511 - val_loss: 0.2428\n",
      "Epoch 6/40\n",
      "60000/60000 [==============================] - 5s 91us/sample - loss: 0.2416 - val_loss: 0.2322\n",
      "Epoch 7/40\n",
      "60000/60000 [==============================] - 5s 90us/sample - loss: 0.2413 - val_loss: 0.2223\n",
      "Epoch 8/40\n",
      "60000/60000 [==============================] - 5s 91us/sample - loss: 0.2194 - val_loss: 0.2305\n",
      "Epoch 9/40\n",
      "60000/60000 [==============================] - 5s 90us/sample - loss: 0.2097 - val_loss: 0.2014\n",
      "Epoch 10/40\n",
      "60000/60000 [==============================] - 5s 90us/sample - loss: 0.2240 - val_loss: 0.2137\n",
      "Epoch 11/40\n",
      "60000/60000 [==============================] - 5s 90us/sample - loss: 0.2160 - val_loss: 0.2014\n",
      "Epoch 12/40\n",
      "60000/60000 [==============================] - 5s 90us/sample - loss: 0.2043 - val_loss: 0.2054\n",
      "Epoch 13/40\n",
      "60000/60000 [==============================] - 6s 107us/sample - loss: 0.2061 - val_loss: 0.1948\n",
      "Epoch 14/40\n",
      "60000/60000 [==============================] - 6s 104us/sample - loss: 0.2117 - val_loss: 0.1995\n",
      "Epoch 15/40\n",
      "60000/60000 [==============================] - 6s 95us/sample - loss: 0.2077 - val_loss: 0.1922\n",
      "Epoch 16/40\n",
      "60000/60000 [==============================] - 6s 94us/sample - loss: 0.1920 - val_loss: 0.1894\n",
      "Epoch 17/40\n",
      "60000/60000 [==============================] - 6s 100us/sample - loss: 0.1926 - val_loss: 0.2161\n",
      "Epoch 18/40\n",
      "60000/60000 [==============================] - 6s 106us/sample - loss: 0.1986 - val_loss: 0.1950\n",
      "Epoch 19/40\n",
      "60000/60000 [==============================] - 6s 96us/sample - loss: 0.1913 - val_loss: 0.1917\n",
      "Epoch 20/40\n",
      "60000/60000 [==============================] - 5s 91us/sample - loss: 0.1952 - val_loss: 0.2299\n",
      "Epoch 21/40\n",
      "60000/60000 [==============================] - 6s 92us/sample - loss: 0.1907 - val_loss: 0.1852\n",
      "Epoch 22/40\n",
      "60000/60000 [==============================] - 6s 92us/sample - loss: 0.1930 - val_loss: 0.1842\n",
      "Epoch 23/40\n",
      "60000/60000 [==============================] - 6s 97us/sample - loss: 0.1942 - val_loss: 0.1841\n",
      "Epoch 24/40\n",
      "60000/60000 [==============================] - 6s 95us/sample - loss: 0.1935 - val_loss: 0.1846\n",
      "Epoch 25/40\n",
      "60000/60000 [==============================] - 6s 92us/sample - loss: 0.1963 - val_loss: 0.1859\n",
      "Epoch 26/40\n",
      "60000/60000 [==============================] - 6s 94us/sample - loss: 0.1842 - val_loss: 0.1802\n",
      "Epoch 27/40\n",
      "60000/60000 [==============================] - 6s 96us/sample - loss: 0.1897 - val_loss: 0.2005\n",
      "Epoch 28/40\n",
      "60000/60000 [==============================] - 6s 96us/sample - loss: 0.1985 - val_loss: 0.1992\n",
      "Epoch 29/40\n",
      "60000/60000 [==============================] - 6s 95us/sample - loss: 0.1966 - val_loss: 0.1874\n",
      "Epoch 30/40\n",
      "60000/60000 [==============================] - 6s 93us/sample - loss: 0.1831 - val_loss: 0.1796\n",
      "Epoch 31/40\n",
      "60000/60000 [==============================] - 6s 93us/sample - loss: 0.1825 - val_loss: 0.1759\n",
      "Epoch 32/40\n",
      "60000/60000 [==============================] - 6s 94us/sample - loss: 0.1813 - val_loss: 0.1779\n",
      "Epoch 33/40\n",
      "60000/60000 [==============================] - 6s 95us/sample - loss: 0.1951 - val_loss: 0.1935\n",
      "Epoch 34/40\n",
      "60000/60000 [==============================] - 6s 94us/sample - loss: 0.2038 - val_loss: 0.2089\n",
      "Epoch 35/40\n",
      "60000/60000 [==============================] - 6s 93us/sample - loss: 0.1970 - val_loss: 0.2137\n",
      "Epoch 36/40\n",
      "60000/60000 [==============================] - 7s 122us/sample - loss: 0.1932 - val_loss: 0.1801\n",
      "Epoch 37/40\n",
      "60000/60000 [==============================] - 7s 114us/sample - loss: 0.1861 - val_loss: 0.1928\n",
      "Epoch 38/40\n",
      "60000/60000 [==============================] - 6s 101us/sample - loss: 0.1939 - val_loss: 0.2298\n",
      "Epoch 39/40\n",
      "60000/60000 [==============================] - 7s 113us/sample - loss: 0.1965 - val_loss: 0.1776\n",
      "Epoch 40/40\n",
      "60000/60000 [==============================] - 6s 92us/sample - loss: 0.1871 - val_loss: 0.1797\n"
     ]
    },
    {
     "data": {
      "text/plain": [
       "<tensorflow.python.keras.callbacks.History at 0x1a4d088350>"
      ]
     },
     "execution_count": 94,
     "metadata": {},
     "output_type": "execute_result"
    }
   ],
   "source": [
    "autoencoder.fit(x_train, x_train,\n",
    "                epochs=40,\n",
    "                batch_size=256,\n",
    "                shuffle=True,\n",
    "                validation_data=(x_test, x_test))"
   ]
  },
  {
   "cell_type": "code",
   "execution_count": 61,
   "metadata": {},
   "outputs": [],
   "source": [
    "# encode and decode some digits\n",
    "# note that we take them from the *test* set\n",
    "encoded_imgs = encoder.predict(x_test)\n",
    "decoded_imgs = decoder.predict(encoded_imgs)"
   ]
  },
  {
   "cell_type": "code",
   "execution_count": 62,
   "metadata": {},
   "outputs": [
    {
     "data": {
      "image/png": "[encoded data removed]",
      "text/plain": [
       "<Figure size 1440x288 with 20 Axes>"
      ]
     },
     "metadata": {
      "needs_background": "light"
     },
     "output_type": "display_data"
    }
   ],
   "source": [
    "# use Matplotlib (don't ask)\n",
    "import matplotlib.pyplot as plt\n",
    "\n",
    "n = 10  # how many digits we will display\n",
    "plt.figure(figsize=(20, 4))\n",
    "for i in range(n):\n",
    "    # display original\n",
    "    ax = plt.subplot(2, n, i + 1)\n",
    "    plt.imshow(x_test[i].reshape(28, 28))\n",
    "    plt.gray()\n",
    "    ax.get_xaxis().set_visible(False)\n",
    "    ax.get_yaxis().set_visible(False)\n",
    "\n",
    "    # display reconstruction\n",
    "    ax = plt.subplot(2, n, i + 1 + n)\n",
    "    plt.imshow(decoded_imgs[i].reshape(28, 28))\n",
    "    plt.gray()\n",
    "    ax.get_xaxis().set_visible(False)\n",
    "    ax.get_yaxis().set_visible(False)\n",
    "plt.show()"
   ]
  },
  {
   "cell_type": "markdown",
   "metadata": {},
   "source": [
    "\n",
    "### We can try k-means clustering on the latent space to see if we can separate numbers\n",
    "\n",
    "https://scikit-learn.org/stable/modules/generated/sklearn.cluster.KMeans.html"
   ]
  },
  {
   "cell_type": "code",
   "execution_count": 63,
   "metadata": {},
   "outputs": [],
   "source": [
    "clust = KMeans(n_clusters=10).fit(x_test)"
   ]
  },
  {
   "cell_type": "code",
   "execution_count": 73,
   "metadata": {},
   "outputs": [
    {
     "name": "stdout",
     "output_type": "stream",
     "text": [
      "[4 2 5 ... 9 9 7]\n",
      "[4 2 5 ... 9 9 7]\n"
     ]
    },
    {
     "data": {
      "image/png": "[encoded data removed]",
      "text/plain": [
       "<Figure size 432x288 with 1 Axes>"
      ]
     },
     "metadata": {
      "needs_background": "light"
     },
     "output_type": "display_data"
    },
    {
     "data": {
      "image/png": "[encoded data removed]",
      "text/plain": [
       "<Figure size 432x288 with 1 Axes>"
      ]
     },
     "metadata": {
      "needs_background": "light"
     },
     "output_type": "display_data"
    },
    {
     "data": {
      "image/png": "[encoded data removed]",
      "text/plain": [
       "<Figure size 432x288 with 1 Axes>"
      ]
     },
     "metadata": {
      "needs_background": "light"
     },
     "output_type": "display_data"
    },
    {
     "data": {
      "image/png": "[encoded data removed]",
      "text/plain": [
       "<Figure size 432x288 with 1 Axes>"
      ]
     },
     "metadata": {
      "needs_background": "light"
     },
     "output_type": "display_data"
    },
    {
     "data": {
      "image/png": "[encoded data removed]",
      "text/plain": [
       "<Figure size 432x288 with 1 Axes>"
      ]
     },
     "metadata": {
      "needs_background": "light"
     },
     "output_type": "display_data"
    },
    {
     "data": {
      "image/png": "[encoded data removed]",
      "text/plain": [
       "<Figure size 432x288 with 1 Axes>"
      ]
     },
     "metadata": {
      "needs_background": "light"
     },
     "output_type": "display_data"
    },
    {
     "data": {
      "image/png": "[encoded data removed]",
      "text/plain": [
       "<Figure size 432x288 with 1 Axes>"
      ]
     },
     "metadata": {
      "needs_background": "light"
     },
     "output_type": "display_data"
    },
    {
     "data": {
      "image/png": "[encoded data removed]",
      "text/plain": [
       "<Figure size 432x288 with 1 Axes>"
      ]
     },
     "metadata": {
      "needs_background": "light"
     },
     "output_type": "display_data"
    },
    {
     "data": {
      "image/png": "[encoded data removed]",
      "text/plain": [
       "<Figure size 432x288 with 1 Axes>"
      ]
     },
     "metadata": {
      "needs_background": "light"
     },
     "output_type": "display_data"
    },
    {
     "data": {
      "image/png": "[encoded data removed]",
      "text/plain": [
       "<Figure size 432x288 with 1 Axes>"
      ]
     },
     "metadata": {
      "needs_background": "light"
     },
     "output_type": "display_data"
    }
   ],
   "source": [
    "print(clust.labels_)\n",
    "print(clust.predict(x_test))\n",
    "#print(clust.cluster_centers_)\n",
    "ind = np.where(clust.labels_ == 9)[0][:10]\n",
    "for i in ind:\n",
    "    plt.imshow(x_test[i].reshape((28,28)))\n",
    "    plt.show()"
   ]
  },
  {
   "cell_type": "code",
   "execution_count": null,
   "metadata": {},
   "outputs": [],
   "source": []
  },
  {
   "cell_type": "code",
   "execution_count": null,
   "metadata": {},
   "outputs": [],
   "source": []
  }
 ],
 "metadata": {
  "kernelspec": {
   "display_name": "Python 3",
   "language": "python",
   "name": "python3"
  },
  "language_info": {
   "codemirror_mode": {
    "name": "ipython",
    "version": 3
   },
   "file_extension": ".py",
   "mimetype": "text/x-python",
   "name": "python",
   "nbconvert_exporter": "python",
   "pygments_lexer": "ipython3",
   "version": "3.7.6"
  }
 },
 "nbformat": 4,
 "nbformat_minor": 4
}
